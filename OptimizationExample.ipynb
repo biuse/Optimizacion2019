{
 "cells": [
  {
   "cell_type": "markdown",
   "metadata": {},
   "source": [
    "***INTRODUCCIÓN A OPTIMIZACIÓN CON PYTHON***\n",
    "Lo básico en un problema de optimización es tener una función objetivo y un optimizador."
   ]
  },
  {
   "cell_type": "code",
   "execution_count": 2,
   "metadata": {},
   "outputs": [],
   "source": [
    "# cargamos paquestes básicos y optimize\n",
    "import numpy as np\n",
    "import matplotlib.pyplot as pl\n",
    "import scipy.optimize as opt"
   ]
  },
  {
   "cell_type": "code",
   "execution_count": 3,
   "metadata": {},
   "outputs": [
    {
     "name": "stdout",
     "output_type": "stream",
     "text": [
      "Optimization terminated successfully.\n",
      "         Current function value: 14.750000\n",
      "         Iterations: 18\n",
      "         Function evaluations: 36\n",
      "minimo en [2.5]\n"
     ]
    },
    {
     "data": {
      "text/plain": [
       "[<matplotlib.lines.Line2D at 0x110ea0d10>]"
      ]
     },
     "execution_count": 3,
     "metadata": {},
     "output_type": "execute_result"
    },
    {
     "data": {
      "image/png": "[encoded data removed]",
      "text/plain": [
       "<Figure size 432x288 with 1 Axes>"
      ]
     },
     "metadata": {},
     "output_type": "display_data"
    }
   ],
   "source": [
    "# ejemplo muy simple\n",
    "# quiero encontrar mínimo de una parábola\n",
    "def func(x):\n",
    "    return (x-3)**2+x+12\n",
    "x=np.arange(-20,20)\n",
    "pl.plot(x,func(x))\n",
    "x0=np.random.uniform(1)\n",
    "xopt=opt.fmin(func,x0)\n",
    "print 'minimo en', xopt\n",
    "pl.plot(xopt,func(xopt),'or')"
   ]
  },
  {
   "cell_type": "code",
   "execution_count": 4,
   "metadata": {},
   "outputs": [
    {
     "name": "stdout",
     "output_type": "stream",
     "text": [
      "1.0 (0, None)\n",
      "minimo en [2.5]\n"
     ]
    },
    {
     "data": {
      "text/plain": [
       "[<matplotlib.lines.Line2D at 0x110e3bd10>]"
      ]
     },
     "execution_count": 4,
     "metadata": {},
     "output_type": "execute_result"
    },
    {
     "data": {
      "image/png": "[encoded data removed]",
      "text/plain": [
       "<Figure size 432x288 with 1 Axes>"
      ]
     },
     "metadata": {},
     "output_type": "display_data"
    }
   ],
   "source": [
    "print x0,(0,None)\n",
    "res=opt.minimize(func,x0,bounds=((-15,-10),))\n",
    "pl.plot(x,func(x))\n",
    "\n",
    "print 'minimo en', xopt\n",
    "pl.plot(res.x,func(res.x),'or')"
   ]
  },
  {
   "cell_type": "code",
   "execution_count": 5,
   "metadata": {},
   "outputs": [],
   "source": [
    "# Ejemplo Dieta\n",
    "\n",
    "import pandas as pd\n",
    "df = pd.read_excel(\"dietMedium.xls\",nrows=17)\n",
    "\n",
    "food_names = list(df['Foods'])\n",
    "costs=list(df['Price/Serving'])\n",
    "#costs = dict(zip(food_items,df['Price/Serving']))\n",
    "costs=list(df['Price/Serving'])\n",
    "calories = list(df['Calories'])\n",
    "fat = list(df['Total_Fat (g)'])\n",
    "carbs = list(df['Carbohydrates (g)'])\n",
    "proteins=list(df['Protein (g)'])\n",
    "sodium=list(df['Sodium (mg)'])\n",
    "portion=list(df['Serving Size'])\n",
    "fiber=list(df['Dietary_Fiber (g)'])\n",
    "\n",
    "\n",
    "\n",
    "#print df.info()"
   ]
  },
  {
   "cell_type": "code",
   "execution_count": 6,
   "metadata": {},
   "outputs": [
    {
     "name": "stdout",
     "output_type": "stream",
     "text": [
      "Warning: Maximum number of function evaluations has been exceeded.\n",
      "Total price -1.9603948952916642e+31\n",
      "Cantidades Alimentos [ 3.32957587e+29 -2.16045890e+29 -6.91684546e+29  1.87821716e+30\n",
      " -4.06888657e+29 -8.16631138e+29 -8.21936726e+30  8.28904146e+29\n",
      "  2.19191498e+29 -3.07160126e+29  1.22454719e+30  3.73635864e+28\n",
      "  7.39235906e+29  5.51484000e+29  4.80780133e+29  1.22175211e+29\n",
      " -6.73472999e+28] 2\n"
     ]
    }
   ],
   "source": [
    "# solo queremos minimizar precio:\n",
    "def func(x):\n",
    "    return np.sum(x*np.array(costs))\n",
    "\n",
    "x0=np.random.uniform(size=len(food_names))\n",
    "valOpt=opt.fmin(func,x0)  # minimizamos función func, y le tenemos que dar un valor inicial\n",
    "\n",
    "\n",
    "print 'Total price',np.round(np.sum(valOpt*costs),2)\n",
    "print 'Cantidades Alimentos',valOpt,2\n",
    "\n",
    "# si minimizo el coste, sin ningua restricción nos pone valores negativos en las variables de tal \n",
    "# manera que sum(x*cost) tienda a -inf"
   ]
  },
  {
   "cell_type": "code",
   "execution_count": 7,
   "metadata": {},
   "outputs": [
    {
     "name": "stdout",
     "output_type": "stream",
     "text": [
      "Total price 0.0\n",
      "Cantidades Alimentos [0. 0. 0. 0. 0. 0. 0. 0. 0. 0. 0. 0. 0. 0. 0. 0. 0.]\n"
     ]
    }
   ],
   "source": [
    "# variables no pueden ser negativas, imponemos x>0 imponeindo limites (bounds)\n",
    "\n",
    "# fmin útil si función tiene un mínimo acotado\n",
    "\n",
    "# Añadimos límites, usamos opt.minimize que nos permite añadir bounds\n",
    "res=opt.minimize(func,x0,bounds=len(x0)*[(0,None)])  # bounds(0,inf) para cada una de las variables 17*([0,inf])\n",
    "print 'Total price',np.round(np.sum(res.x*costs),2)\n",
    "print 'Cantidades Alimentos',res.x\n",
    "\n",
    "# precio minimo --> 0"
   ]
  },
  {
   "cell_type": "code",
   "execution_count": 8,
   "metadata": {},
   "outputs": [
    {
     "name": "stdout",
     "output_type": "stream",
     "text": [
      "Help on function linprog in module scipy.optimize._linprog:\n",
      "\n",
      "linprog(c, A_ub=None, b_ub=None, A_eq=None, b_eq=None, bounds=None, method='simplex', callback=None, options=None)\n",
      "    Minimize a linear objective function subject to linear\n",
      "    equality and inequality constraints.\n",
      "    \n",
      "    Linear Programming is intended to solve the following problem form::\n",
      "    \n",
      "        Minimize:     c^T * x\n",
      "    \n",
      "        Subject to:   A_ub * x <= b_ub\n",
      "                      A_eq * x == b_eq\n",
      "    \n",
      "    Parameters\n",
      "    ----------\n",
      "    c : array_like\n",
      "        Coefficients of the linear objective function to be minimized.\n",
      "    A_ub : array_like, optional\n",
      "        2-D array which, when matrix-multiplied by ``x``, gives the values of\n",
      "        the upper-bound inequality constraints at ``x``.\n",
      "    b_ub : array_like, optional\n",
      "        1-D array of values representing the upper-bound of each inequality\n",
      "        constraint (row) in ``A_ub``.\n",
      "    A_eq : array_like, optional\n",
      "        2-D array which, when matrix-multiplied by ``x``, gives the values of\n",
      "        the equality constraints at ``x``.\n",
      "    b_eq : array_like, optional\n",
      "        1-D array of values representing the RHS of each equality constraint\n",
      "        (row) in ``A_eq``.\n",
      "    bounds : sequence, optional\n",
      "        ``(min, max)`` pairs for each element in ``x``, defining\n",
      "        the bounds on that parameter. Use None for one of ``min`` or\n",
      "        ``max`` when there is no bound in that direction. By default\n",
      "        bounds are ``(0, None)`` (non-negative)\n",
      "        If a sequence containing a single tuple is provided, then ``min`` and\n",
      "        ``max`` will be applied to all variables in the problem.\n",
      "    method : str, optional\n",
      "        Type of solver.  :ref:`'simplex' <optimize.linprog-simplex>`\n",
      "        and :ref:`'interior-point' <optimize.linprog-interior-point>`\n",
      "        are supported.\n",
      "    callback : callable, optional (simplex only)\n",
      "        If a callback function is provide, it will be called within each\n",
      "        iteration of the simplex algorithm. The callback must have the\n",
      "        signature ``callback(xk, **kwargs)`` where ``xk`` is the current\n",
      "        solution vector and ``kwargs`` is a dictionary containing the\n",
      "        following::\n",
      "    \n",
      "            \"tableau\" : The current Simplex algorithm tableau\n",
      "            \"nit\" : The current iteration.\n",
      "            \"pivot\" : The pivot (row, column) used for the next iteration.\n",
      "            \"phase\" : Whether the algorithm is in Phase 1 or Phase 2.\n",
      "            \"basis\" : The indices of the columns of the basic variables.\n",
      "    \n",
      "    options : dict, optional\n",
      "        A dictionary of solver options. All methods accept the following\n",
      "        generic options:\n",
      "    \n",
      "            maxiter : int\n",
      "                Maximum number of iterations to perform.\n",
      "            disp : bool\n",
      "                Set to True to print convergence messages.\n",
      "    \n",
      "        For method-specific options, see :func:`show_options('linprog')`.\n",
      "    \n",
      "    Returns\n",
      "    -------\n",
      "    A `scipy.optimize.OptimizeResult` consisting of the following fields:\n",
      "    \n",
      "        x : ndarray\n",
      "            The independent variable vector which optimizes the linear\n",
      "            programming problem.\n",
      "        fun : float\n",
      "            Value of the objective function.\n",
      "        slack : ndarray\n",
      "            The values of the slack variables.  Each slack variable corresponds\n",
      "            to an inequality constraint.  If the slack is zero, then the\n",
      "            corresponding constraint is active.\n",
      "        success : bool\n",
      "            Returns True if the algorithm succeeded in finding an optimal\n",
      "            solution.\n",
      "        status : int\n",
      "            An integer representing the exit status of the optimization::\n",
      "    \n",
      "                 0 : Optimization terminated successfully\n",
      "                 1 : Iteration limit reached\n",
      "                 2 : Problem appears to be infeasible\n",
      "                 3 : Problem appears to be unbounded\n",
      "    \n",
      "        nit : int\n",
      "            The number of iterations performed.\n",
      "        message : str\n",
      "            A string descriptor of the exit status of the optimization.\n",
      "    \n",
      "    See Also\n",
      "    --------\n",
      "    show_options : Additional options accepted by the solvers\n",
      "    \n",
      "    Notes\n",
      "    -----\n",
      "    This section describes the available solvers that can be selected by the\n",
      "    'method' parameter. The default method\n",
      "    is :ref:`Simplex <optimize.linprog-simplex>`.\n",
      "    :ref:`Interior point <optimize.linprog-interior-point>` is also available.\n",
      "    \n",
      "    Method *simplex* uses the simplex algorithm (as it relates to linear\n",
      "    programming, NOT the Nelder-Mead simplex) [1]_, [2]_. This algorithm\n",
      "    should be reasonably reliable and fast for small problems.\n",
      "    \n",
      "    .. versionadded:: 0.15.0\n",
      "    \n",
      "    Method *interior-point* uses the primal-dual path following algorithm\n",
      "    as outlined in [4]_. This algorithm is intended to provide a faster\n",
      "    and more reliable alternative to *simplex*, especially for large,\n",
      "    sparse problems. Note, however, that the solution returned may be slightly\n",
      "    less accurate than that of the simplex method and may not correspond with a\n",
      "    vertex of the polytope defined by the constraints.\n",
      "    \n",
      "    References\n",
      "    ----------\n",
      "    .. [1] Dantzig, George B., Linear programming and extensions. Rand\n",
      "           Corporation Research Study Princeton Univ. Press, Princeton, NJ,\n",
      "           1963\n",
      "    .. [2] Hillier, S.H. and Lieberman, G.J. (1995), \"Introduction to\n",
      "           Mathematical Programming\", McGraw-Hill, Chapter 4.\n",
      "    .. [3] Bland, Robert G. New finite pivoting rules for the simplex method.\n",
      "           Mathematics of Operations Research (2), 1977: pp. 103-107.\n",
      "    .. [4] Andersen, Erling D., and Knud D. Andersen. \"The MOSEK interior point\n",
      "           optimizer for linear programming: an implementation of the\n",
      "           homogeneous algorithm.\" High performance optimization. Springer US,\n",
      "           2000. 197-232.\n",
      "    .. [5] Andersen, Erling D. \"Finding all linearly dependent rows in\n",
      "           large-scale linear programming.\" Optimization Methods and Software\n",
      "           6.3 (1995): 219-227.\n",
      "    .. [6] Freund, Robert M. \"Primal-Dual Interior-Point Methods for Linear\n",
      "           Programming based on Newton's Method.\" Unpublished Course Notes,\n",
      "           March 2004. Available 2/25/2017 at\n",
      "           https://ocw.mit.edu/courses/sloan-school-of-management/15-084j-nonlinear-programming-spring-2004/lecture-notes/lec14_int_pt_mthd.pdf\n",
      "    .. [7] Fourer, Robert. \"Solving Linear Programs by Interior-Point Methods.\"\n",
      "           Unpublished Course Notes, August 26, 2005. Available 2/25/2017 at\n",
      "           http://www.4er.org/CourseNotes/Book%20B/B-III.pdf\n",
      "    .. [8] Andersen, Erling D., and Knud D. Andersen. \"Presolving in linear\n",
      "           programming.\" Mathematical Programming 71.2 (1995): 221-245.\n",
      "    .. [9] Bertsimas, Dimitris, and J. Tsitsiklis. \"Introduction to linear\n",
      "           programming.\" Athena Scientific 1 (1997): 997.\n",
      "    .. [10] Andersen, Erling D., et al. Implementation of interior point\n",
      "            methods for large scale linear programming. HEC/Universite de\n",
      "            Geneve, 1996.\n",
      "    \n",
      "    Examples\n",
      "    --------\n",
      "    Consider the following problem:\n",
      "    \n",
      "    Minimize: f = -1*x[0] + 4*x[1]\n",
      "    \n",
      "    Subject to: -3*x[0] + 1*x[1] <= 6\n",
      "                 1*x[0] + 2*x[1] <= 4\n",
      "                            x[1] >= -3\n",
      "    \n",
      "    where:  -inf <= x[0] <= inf\n",
      "    \n",
      "    This problem deviates from the standard linear programming problem.\n",
      "    In standard form, linear programming problems assume the variables x are\n",
      "    non-negative.  Since the variables don't have standard bounds where\n",
      "    0 <= x <= inf, the bounds of the variables must be explicitly set.\n",
      "    \n",
      "    There are two upper-bound constraints, which can be expressed as\n",
      "    \n",
      "    dot(A_ub, x) <= b_ub\n",
      "    \n",
      "    The input for this problem is as follows:\n",
      "    \n",
      "    >>> c = [-1, 4]\n",
      "    >>> A = [[-3, 1], [1, 2]]\n",
      "    >>> b = [6, 4]\n",
      "    >>> x0_bounds = (None, None)\n",
      "    >>> x1_bounds = (-3, None)\n",
      "    >>> from scipy.optimize import linprog\n",
      "    >>> res = linprog(c, A_ub=A, b_ub=b, bounds=(x0_bounds, x1_bounds),\n",
      "    ...               options={\"disp\": True})\n",
      "    Optimization terminated successfully.\n",
      "         Current function value: -22.000000\n",
      "         Iterations: 1\n",
      "    >>> print(res)\n",
      "         fun: -22.0\n",
      "     message: 'Optimization terminated successfully.'\n",
      "         nit: 1\n",
      "       slack: array([39.,  0.])\n",
      "      status: 0\n",
      "     success: True\n",
      "           x: array([10., -3.])\n",
      "    \n",
      "    Note the actual objective value is 11.428571.  In this case we minimized\n",
      "    the negative of the objective function.\n",
      "\n"
     ]
    }
   ],
   "source": [
    "#Ahora añadimos restricciones usando opt.linprog()\n",
    "help(opt.linprog)"
   ]
  },
  {
   "cell_type": "code",
   "execution_count": 9,
   "metadata": {},
   "outputs": [
    {
     "name": "stdout",
     "output_type": "stream",
     "text": [
      "     fun: 1.7064296536565586\n",
      " message: 'Optimization terminated successfully.'\n",
      "     nit: 4\n",
      "   slack: array([500.,   0.,   0.])\n",
      "  status: 0\n",
      " success: True\n",
      "       x: array([0.        , 0.        , 0.        , 3.10492734, 0.        ,\n",
      "       0.        , 0.        , 0.        , 2.55009496, 0.        ,\n",
      "       0.        , 0.        , 0.        , 0.        , 0.        ,\n",
      "       0.        , 0.        ])\n"
     ]
    }
   ],
   "source": [
    "# coeficientes que multiplican las variables en la función Lineal que queremos minimizar (precio)\n",
    "c=np.array(costs)\n",
    "\n",
    "# ligaduras:\n",
    "# suma de 800 < calorías < 1300 \n",
    "A0=np.array(calories)\n",
    "b0=1300\n",
    "# como solo acepta límites superiores, giramos esta inecuación añadiendo signo negativo a ambos lados.\n",
    "A1=-np.array(calories)\n",
    "B1=-800\n",
    "# queremos dieta baja en sal sodium_1*x_1+sodium_2*x_2+... < 50mg\n",
    "A2= np.array(sodium) \n",
    "B2= 50.\n",
    "\n",
    "A=[A0,A1,A2]\n",
    "b=[b0,B1,B2]\n",
    "# si queremos alguna igualdad se puede añadir quenerando Aeq y beq de la misma forma\n",
    "\n",
    "# ponemos valores mínimos y máximos de cada variable, en este caso x_i>=0\n",
    "Bounds=(0,None)\n",
    "# bounds si solo se pone uno se asume que es el mismo para todos, pero podríamos poner tantos como variables \n",
    "#(lb y ub para cada variable)\n",
    "\n",
    "res=opt.linprog(c,A_ub=A,b_ub=b,bounds=Bounds)\n",
    "print res   # nos da información de la optimización\n"
   ]
  },
  {
   "cell_type": "code",
   "execution_count": 10,
   "metadata": {},
   "outputs": [
    {
     "name": "stdout",
     "output_type": "stream",
     "text": [
      "Precio Total 1.71\n",
      "Precio Total 1.71\n",
      " Baked Potatoes 3.1\n",
      "Banana 2.55\n"
     ]
    }
   ],
   "source": [
    "# valores de x en res.x y valor final de la función objetivo en res.fun\n",
    "print 'Precio Total',np.round(np.sum(res.x*c),2)\n",
    "print 'Precio Total',np.round(res.fun,2)\n",
    "\n",
    "for i in range(len(costs)):\n",
    "    if res.x[i]!=0:\n",
    "         print food_names[i],np.round(res.x[i],2)#,portion[i]\n"
   ]
  },
  {
   "cell_type": "code",
   "execution_count": 11,
   "metadata": {},
   "outputs": [
    {
     "name": "stdout",
     "output_type": "stream",
     "text": [
      "Precio Total 5.52\n",
      "Frozen Broccoli 6.92 10 Oz Pkg\n",
      " Baked Potatoes 1.08 1/2 Cup\n",
      "Scrambled Eggs 6.06 1 Egg\n"
     ]
    }
   ],
   "source": [
    "# Ponemos más restricciones para hacer la dieta más saludable ( y esperamos que más variada)\n",
    "# coef función objetivo:\n",
    "c=np.array(costs)\n",
    "\n",
    "# ligaduras:\n",
    "\n",
    "# 800 < sum(cal*x) <1300\n",
    "A0=np.array(calories)\n",
    "b0=1300\n",
    "A1=-np.array(calories)\n",
    "B1=-800\n",
    "\n",
    "# grasas  20 < sum(fat*x) <50\n",
    "A2= -np.array(fat) \n",
    "B2= -20.0\n",
    "A3= np.array(fat) \n",
    "B3= 50.0\n",
    "\n",
    "# carbohidratos 130 < sum(carb*x) < 200\n",
    "A4= -np.array(carbs) \n",
    "B4= -130.0\n",
    "A5= np.array(carbs)  \n",
    "B5= 200.0\n",
    "\n",
    "#fibra   60 < sum(fibra*x) < 125\n",
    "A4= -np.array(fiber) \n",
    "B4= -60.\n",
    "A5= np.array(fiber) \n",
    "B5= 125.\n",
    "\n",
    "#  100 < sum(proteina*x) < 125\n",
    "A6= -np.array(proteins) \n",
    "B6= -100.\n",
    "A7= np.array(proteins) \n",
    "B7= 125.\n",
    "\n",
    "\n",
    "A=[A0,A1,A2,A3,A4,A5,A6,A7]\n",
    "b=[b0,B1,B2,B3,B4,B5,B6,B7]\n",
    "# si queremos alguna igualdad se puede añadir quenerando Aeq y beq de la misma forma\n",
    "# bounds si solo se pone uno se asume que es el mismo para todos, pero podríamos poner tantos como variables \n",
    "#(lb y ub para cada variable)\n",
    "Bounds=(0,None)\n",
    "res=opt.linprog(c,A_ub=A,b_ub=b,bounds=Bounds)\n",
    "\n",
    "print 'Precio Total',np.round(res.fun,2)\n",
    "\n",
    "pos=np.where(res.x!=0)[0]\n",
    "for i in range(len(costs)):\n",
    "    if res.x[i]!=0:\n",
    "       print food_names[i],np.round(res.x[i],2),portion[i]\n",
    "\n",
    "# Pidiendole que sea la más barata nunca nos va a dar el filete!"
   ]
  },
  {
   "cell_type": "markdown",
   "metadata": {},
   "source": [
    "*** non linear function= quadratic optimization ***\n",
    "\n",
    "En vez de minimizar el coste, queremos por ejemplo hacer el menú que tenga un coste más cercano a 30 dólares (a ver si así nos sale el filete ;)) \n",
    "\n",
    " - utilizarmeos opt.minimize que es más general y se pueden poner tanto constraints lineales como no lineales.\n",
    "\n",
    " - opt.minimize tiene la ventaja que te deja poner lb < A < ub, lo que simplifica las ecuaciones.\n",
    "\n",
    " - Y las \"desventajas\" de que hay que poner bounds para todos y hay que darle las derivadas dfunc/dx_i"
   ]
  },
  {
   "cell_type": "code",
   "execution_count": 15,
   "metadata": {},
   "outputs": [
    {
     "name": "stdout",
     "output_type": "stream",
     "text": [
      "`gtol` termination condition is satisfied.\n",
      "Number of iterations: 71, function evaluations: 66, CG iterations: 230, optimality: 5.24e-09, constraint violation: 0.00e+00, execution time: 0.27 s.\n",
      "Precio Total 26.07\n",
      "Raw Lettuce Iceberg 396.67\n",
      "Tofu 1.73\n",
      "Beef Frankfurter 0.82\n"
     ]
    }
   ],
   "source": [
    "from scipy.optimize import LinearConstraint\n",
    "\n",
    "# definimos función\n",
    "def func(x):\n",
    "    return (np.sum(x*np.array(costs))-30)**2\n",
    "def jac(x):\n",
    "    return 2*(np.sum(x*np.array(costs))-30)*np.array(costs)\n",
    "# si quisieramos poner el caso lineal: \n",
    "#def func(x):\n",
    "#    return (np.sum(x*np.array(costs)))\n",
    "#def jac(x):\n",
    " #   return np.array(costs)\n",
    "\n",
    "A0=np.array(calories)\n",
    "u0=1300\n",
    "l0=800\n",
    "# baja en  grasa\n",
    "# Fat\n",
    "A1= np.array(fat) \n",
    "l1= 20.0\n",
    "u1= 50.0\n",
    "\n",
    "# carbohidratos\n",
    "A2= np.array(carbs) \n",
    "l2= 130.0\n",
    "u2= 200.0\n",
    "\n",
    "A3= np.array(fiber) \n",
    "l3= 60.\n",
    "u3= 125.\n",
    "# Fiber\n",
    "# Protein\n",
    "A4= np.array(proteins) \n",
    "l4= 100.\n",
    "u4= 125.\n",
    "\n",
    "bounds=len(x0)*[(0,None)]# [valores minimos variables], [valores maximos variables]\n",
    "A=[A0,A1,A2,A3,A4]\n",
    "lb=[l0,l1,l2,l3,l4] # si tuvieramos más desigualdades tantos valores como inecuaciones\n",
    "ub=[u0,u1,u2,u3,u4]  # si tuvieramos más desigualdades tantos valores como inecuaciones\n",
    "\n",
    "LinCons=LinearConstraint(A,lb,ub)\n",
    "res = opt.minimize(func, x0, method='trust-constr', jac=jac,hess='3-point',constraints=LinCons,options={'verbose': 1}, bounds=bounds)\n",
    "print 'Precio Total',np.round(np.sum(res.x*np.array(costs)),2)\n",
    "\n",
    "for i in range(len(costs)):\n",
    "    if np.round(res.x[i],2)!=0:\n",
    "       print food_names[i],np.round(res.x[i],2)#,portion[i]"
   ]
  },
  {
   "cell_type": "code",
   "execution_count": 18,
   "metadata": {},
   "outputs": [],
   "source": [
    "# Si nos interesara que nos diera solo unidades de cada elemente, necesitamos variables enteras. \n",
    "# Esto scipy.optimize no lo tiene implementado \n",
    "# Usamos PULP\n",
    "\n",
    "\n",
    "import pulp \n",
    "\n",
    "\n",
    "prob = pulp.LpProblem(\"Simple Diet Problem\",pulp.LpMinimize)\n",
    "food_items=np.arange(len(costs))\n",
    "food_vars = pulp.LpVariable.dicts(\"Food\",food_items,lowBound=0,cat='Integer') # si ponemos Continuous nos dará igual que antes! \n",
    "prob += pulp.lpSum([costs[i]*food_vars[i] for i,name in enumerate(food_items)])  # precio\n",
    "prob += pulp.lpSum([calories[f] * food_vars[f] for f in food_items]) >= 800.0  # calorias minimas\n",
    "prob += pulp.lpSum([calories[f] * food_vars[f] for f in food_items]) <= 1300.0 # calorias maximas\n",
    "\n",
    "## otras: \n",
    "prob += pulp.lpSum([fat[f] * food_vars[f] for f in food_items]) >= 20.0, \"FatMinimum\"\n",
    "prob += pulp.lpSum([fat[f] * food_vars[f] for f in food_items]) <= 50.0, \"FatMaximum\"\n",
    "\n",
    "# Carbs\n",
    "prob += pulp.lpSum([carbs[f] * food_vars[f] for f in food_items]) >= 130.0, \"CarbsMinimum\"\n",
    "prob += pulp.lpSum([carbs[f] * food_vars[f] for f in food_items]) <= 200.0, \"CarbsMaximum\"\n",
    "\n",
    "# Fiber\n",
    "prob += pulp.lpSum([fiber[f] * food_vars[f] for f in food_items]) >= 60.0, \"FiberMinimum\"\n",
    "prob += pulp.lpSum([fiber[f] * food_vars[f] for f in food_items]) <= 125.0, \"FiberMaximum\"\n",
    "\n",
    "# Protein\n",
    "prob += pulp.lpSum([proteins[f] * food_vars[f] for f in food_items]) >= 100.0, \"ProteinMinimum\"\n",
    "prob += pulp.lpSum([proteins[f] * food_vars[f] for f in food_items]) <= 150.0, \"ProteinMaximum\""
   ]
  },
  {
   "cell_type": "code",
   "execution_count": 20,
   "metadata": {},
   "outputs": [
    {
     "name": "stdout",
     "output_type": "stream",
     "text": [
      "('Food_0', '=', 6.9242113)\n",
      "('Food_13', '=', 6.060891)\n",
      "('Food_3', '=', 1.0806324)\n"
     ]
    },
    {
     "data": {
      "text/plain": [
       "('Frozen Broccoli', 'Scrambled Eggs', ' Baked Potatoes')"
      ]
     },
     "execution_count": 20,
     "metadata": {},
     "output_type": "execute_result"
    }
   ],
   "source": [
    "prob.solve()\n",
    "# resultados en prob.variables\n",
    "for i,v in enumerate(prob.variables()):\n",
    "    if v.varValue>0:\n",
    "        print(v.name, \"=\", v.varValue)\n",
    "        #print i,v.name\n",
    "        #print(food_names[i], \"=\", v.varValue)\n",
    "\n",
    "\n",
    "str(food_names[0]),str(food_names[13]),str(food_names[3]),str(food_names[2])\n"
   ]
  },
  {
   "cell_type": "code",
   "execution_count": 300,
   "metadata": {},
   "outputs": [
    {
     "data": {
      "text/html": [
       "<script>\n",
       "code_show=true; \n",
       "function code_toggle() {\n",
       "if (code_show){\n",
       "$('div.input').hide();\n",
       "} else {\n",
       "$('div.input').show();\n",
       "}\n",
       "code_show = !code_show\n",
       "} \n",
       "$( document ).ready(code_toggle);\n",
       "</script>\n",
       "<form action=\"javascript:code_toggle()\"><input type=\"submit\" value=\"Show/hide code \"></form>"
      ],
      "text/plain": [
       "<IPython.core.display.HTML object>"
      ]
     },
     "execution_count": 300,
     "metadata": {},
     "output_type": "execute_result"
    }
   ],
   "source": [
    "from IPython.display import HTML\n",
    "\n",
    "HTML('''<script>\n",
    "code_show=true; \n",
    "function code_toggle() {\n",
    "if (code_show){\n",
    "$('div.input').hide();\n",
    "} else {\n",
    "$('div.input').show();\n",
    "}\n",
    "code_show = !code_show\n",
    "} \n",
    "$( document ).ready(code_toggle);\n",
    "</script>\n",
    "<form action=\"javascript:code_toggle()\"><input type=\"submit\" value=\"Show/hide code \"></form>''')"
   ]
  },
  {
   "cell_type": "code",
   "execution_count": null,
   "metadata": {},
   "outputs": [],
   "source": []
  }
 ],
 "metadata": {
  "kernelspec": {
   "display_name": "Python 2",
   "language": "python",
   "name": "python2"
  },
  "language_info": {
   "codemirror_mode": {
    "name": "ipython",
    "version": 2
   },
   "file_extension": ".py",
   "mimetype": "text/x-python",
   "name": "python",
   "nbconvert_exporter": "python",
   "pygments_lexer": "ipython2",
   "version": "2.7.15"
  }
 },
 "nbformat": 4,
 "nbformat_minor": 2
}
